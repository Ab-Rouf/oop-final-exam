{
  "nbformat": 4,
  "nbformat_minor": 0,
  "metadata": {
    "colab": {
      "provenance": [],
      "authorship_tag": "ABX9TyNinffbU1hLAMOiVVIwlLda",
      "include_colab_link": true
    },
    "kernelspec": {
      "name": "python3",
      "display_name": "Python 3"
    },
    "language_info": {
      "name": "python"
    }
  },
  "cells": [
    {
      "cell_type": "markdown",
      "metadata": {
        "id": "view-in-github",
        "colab_type": "text"
      },
      "source": [
        "<a href=\"https://colab.research.google.com/github/Ab-Rouf/oop-final-exam/blob/main/Operators_in_python.ipynb\" target=\"_parent\"><img src=\"https://colab.research.google.com/assets/colab-badge.svg\" alt=\"Open In Colab\"/></a>"
      ]
    },
    {
      "cell_type": "markdown",
      "source": [
        "\n",
        "\n",
        "#Operators:\n",
        "\n",
        "1.   Arithmatics Operators\n",
        "2.   Assignment Operators\n",
        "3.   Comparison Operators\n",
        "4.   Logical Operators\n",
        "5.   Identity Operators\n",
        "6.   Membership Operators\n",
        "\n",
        "\n",
        "\n",
        "\n",
        "1. Arithmetics Operators\n",
        "\n",
        "\n",
        "\n",
        "\n",
        "\n",
        "\n"
      ],
      "metadata": {
        "id": "jcKFcrCgn9Dm"
      }
    },
    {
      "cell_type": "markdown",
      "source": [],
      "metadata": {
        "id": "5TBaSsVRo5i1"
      }
    },
    {
      "cell_type": "code",
      "execution_count": 9,
      "metadata": {
        "colab": {
          "base_uri": "https://localhost:8080/"
        },
        "id": "LvueKSR8n23g",
        "outputId": "cb5e2a39-0ac8-4fb5-b128-a08b61546895"
      },
      "outputs": [
        {
          "output_type": "stream",
          "name": "stdout",
          "text": [
            "27\n",
            "Subtraction= 13\n",
            "Multiplication= 140\n",
            "Division= 2.857142857142857\n",
            "Exponent= 1280000000\n",
            "Modulus= 6\n",
            "Floor Division= 2\n"
          ]
        }
      ],
      "source": [
        "num_1=20\n",
        "num_2=7\n",
        "\n",
        "#Addition\n",
        "print(num_1+num_2)\n",
        "#Subtraction\n",
        "\n",
        "sub=num_1-num_2\n",
        "print(\"Subtraction=\",sub)\n",
        "# #Multiplication\n",
        "mul=num_1*num_2\n",
        "print(\"Multiplication=\",mul)\n",
        "#Division\n",
        "div=num_1/num_2\n",
        "print(\"Division=\",div)\n",
        "\n",
        "#Exponent\n",
        "exp=num_1**num_2\n",
        "print(\"Exponent=\",exp)\n",
        "\n",
        "#Modulus\n",
        "mod=num_1%num_2\n",
        "print(\"Modulus=\",mod)\n",
        "\n",
        "#Floor Division\n",
        "floor=num_1//num_2\n",
        "print(\"Floor Division=\",floor)"
      ]
    },
    {
      "cell_type": "markdown",
      "source": [
        "2. Assignment Operators\n"
      ],
      "metadata": {
        "id": "QAj6tufnqg9-"
      }
    },
    {
      "cell_type": "code",
      "source": [
        "a=5\n",
        "print(a)"
      ],
      "metadata": {
        "colab": {
          "base_uri": "https://localhost:8080/"
        },
        "id": "ODmT4dc5pKvO",
        "outputId": "20e523c3-58a1-4146-90cc-2a7681dc2683"
      },
      "execution_count": 10,
      "outputs": [
        {
          "output_type": "stream",
          "name": "stdout",
          "text": [
            "5\n"
          ]
        }
      ]
    },
    {
      "cell_type": "code",
      "source": [
        "a+=5\n",
        "print(a)"
      ],
      "metadata": {
        "colab": {
          "base_uri": "https://localhost:8080/"
        },
        "id": "Ltkd9Xlgqs_d",
        "outputId": "f5b98c8a-59a7-40b9-de5c-3cb673467247"
      },
      "execution_count": 11,
      "outputs": [
        {
          "output_type": "stream",
          "name": "stdout",
          "text": [
            "10\n"
          ]
        }
      ]
    },
    {
      "cell_type": "code",
      "source": [
        "b=5\n",
        "b-=2\n",
        "print(b)"
      ],
      "metadata": {
        "colab": {
          "base_uri": "https://localhost:8080/"
        },
        "id": "0aNQpjPIqwWM",
        "outputId": "180d89e8-ee4c-40f4-9c60-25f0638a6427"
      },
      "execution_count": 14,
      "outputs": [
        {
          "output_type": "stream",
          "name": "stdout",
          "text": [
            "3\n"
          ]
        }
      ]
    },
    {
      "cell_type": "markdown",
      "source": [
        "3. Comparison Operators\n"
      ],
      "metadata": {
        "id": "teacrLyll_oV"
      }
    },
    {
      "cell_type": "code",
      "source": [
        "a=5\n",
        "b=10\n",
        "\n",
        "print(a==b)\n",
        "print(a!=b)\n",
        "print(a>b)\n",
        "print(a<b)\n",
        "print(a>=b)\n",
        "print(a<=b)"
      ],
      "metadata": {
        "colab": {
          "base_uri": "https://localhost:8080/"
        },
        "id": "YdNcoP4SqznM",
        "outputId": "d0dbc184-76c8-4e28-df22-050e20f4230a"
      },
      "execution_count": 1,
      "outputs": [
        {
          "output_type": "stream",
          "name": "stdout",
          "text": [
            "False\n",
            "True\n",
            "False\n",
            "True\n",
            "False\n",
            "True\n"
          ]
        }
      ]
    },
    {
      "cell_type": "markdown",
      "source": [
        "4. Logical Operators\n",
        "\n",
        "and\n",
        "\n",
        "or\n",
        "\n",
        "not\n"
      ],
      "metadata": {
        "id": "Z3zGb1aGmWC0"
      }
    },
    {
      "cell_type": "code",
      "source": [
        "a=10\n",
        "\n",
        "print(a>20 and a>5)\n",
        "print(a>20 or a>5)\n",
        "print(not(a>8 and a>5))\n"
      ],
      "metadata": {
        "colab": {
          "base_uri": "https://localhost:8080/"
        },
        "id": "R7TMMS7WmRiw",
        "outputId": "0b46ebef-3dfe-4f8a-d4ca-5aac8f3e9e5d"
      },
      "execution_count": 3,
      "outputs": [
        {
          "output_type": "stream",
          "name": "stdout",
          "text": [
            "False\n",
            "True\n",
            "False\n"
          ]
        }
      ]
    },
    {
      "cell_type": "markdown",
      "source": [
        "5.identity Operators\n",
        "\n",
        "is\n",
        "\n",
        "is not\n"
      ],
      "metadata": {
        "id": "V5IjoWrmnYYo"
      }
    },
    {
      "cell_type": "code",
      "source": [
        "x=5\n",
        "y=7\n",
        "z=5\n",
        "print(x is z)\n",
        "print(x is not y)"
      ],
      "metadata": {
        "colab": {
          "base_uri": "https://localhost:8080/"
        },
        "id": "GDa_OXfbmjgv",
        "outputId": "6d919ff8-a959-4bc2-bb7b-347d90c8e4e3"
      },
      "execution_count": 5,
      "outputs": [
        {
          "output_type": "stream",
          "name": "stdout",
          "text": [
            "True\n",
            "True\n"
          ]
        }
      ]
    },
    {
      "cell_type": "markdown",
      "source": [
        "6. Membership Operators\n",
        "\n",
        " in\n",
        "\n",
        " not in\n",
        "\n"
      ],
      "metadata": {
        "id": "F607r9Dsn4k5"
      }
    },
    {
      "cell_type": "code",
      "source": [
        "a=5\n",
        "b=10\n",
        "c=[1,2,3,4,5]\n",
        "print(a in c)\n",
        "print(b not in c)"
      ],
      "metadata": {
        "colab": {
          "base_uri": "https://localhost:8080/"
        },
        "id": "mUBOcU0lngf4",
        "outputId": "febb73fe-aa23-42a1-cef0-4da1e7f12d2e"
      },
      "execution_count": 6,
      "outputs": [
        {
          "output_type": "stream",
          "name": "stdout",
          "text": [
            "True\n",
            "True\n"
          ]
        }
      ]
    },
    {
      "cell_type": "markdown",
      "source": [
        "#If else statements in python\n"
      ],
      "metadata": {
        "id": "bdfZi87ood5o"
      }
    },
    {
      "cell_type": "code",
      "source": [
        "a=int(input(\"Enter your  1st value:\"))\n",
        "b=int(input(\"Enter your 2nd value:\"))\n",
        "\n",
        "if a>b:\n",
        "  print(\"a is greater than b\")\n",
        "else:\n",
        "  print(\"b is greater than a\")"
      ],
      "metadata": {
        "colab": {
          "base_uri": "https://localhost:8080/"
        },
        "id": "q_PE5XBYoFvf",
        "outputId": "105a350e-3035-477f-948d-6b6456cd90c3"
      },
      "execution_count": 8,
      "outputs": [
        {
          "output_type": "stream",
          "name": "stdout",
          "text": [
            "Enter your  1st value:12\n",
            "Enter your 2nd value:11\n",
            "a is greater than b\n"
          ]
        }
      ]
    },
    {
      "cell_type": "code",
      "source": [
        "a=int(input(\"Enter your  1st value:\"))\n",
        "b=int(input(\"Enter your 2nd value:\"))\n",
        "c=int(input(\"Enter your 3rd value:\"))\n",
        "\n",
        "if (b<a>c):\n",
        "  print(\"a is largest number\")\n",
        "elif (a<b>c):\n",
        "  print(\"b is largest number\")\n",
        "else:\n",
        "  print(\"c is largest number\")"
      ],
      "metadata": {
        "colab": {
          "base_uri": "https://localhost:8080/"
        },
        "id": "vx_70WZptOxu",
        "outputId": "1461bbfa-0f70-416f-9a3c-53b2474468f2"
      },
      "execution_count": 10,
      "outputs": [
        {
          "output_type": "stream",
          "name": "stdout",
          "text": [
            "Enter your  1st value:11\n",
            "Enter your 2nd value:22\n",
            "Enter your 3rd value:33\n",
            "c is largest number\n"
          ]
        }
      ]
    },
    {
      "cell_type": "markdown",
      "source": [
        "#Loop in python\n",
        "\n",
        "1. For loop\n",
        "\n",
        "2. while loop\n",
        "\n",
        "3. Do-While loop\n",
        "\n"
      ],
      "metadata": {
        "id": "mEvL_MPQun04"
      }
    },
    {
      "cell_type": "code",
      "source": [
        "#for loop\n",
        "\n",
        "laptop_1=int(input(\"Enter the price of laptop:\"))\n",
        "laptop_2=int(input(\"Enter the price of laptop:\"))\n",
        "laptop_3=int(input(\"Enter the price of laptop:\"))\n",
        "laptop_4=int(input(\"Enter the price of laptop:\"))\n",
        "laptop_5=int(input(\"Enter the price of laptop:\"))\n",
        "\n",
        "laptop_price=[laptop_1,laptop_2,laptop_3,laptop_4,laptop_5]\n"
      ],
      "metadata": {
        "colab": {
          "base_uri": "https://localhost:8080/"
        },
        "id": "m_bahevSuA93",
        "outputId": "175147f8-518f-47ab-daa3-bbbc2cecb090"
      },
      "execution_count": 11,
      "outputs": [
        {
          "name": "stdout",
          "output_type": "stream",
          "text": [
            "Enter the price of laptop:100000\n",
            "Enter the price of laptop:5555555\n",
            "Enter the price of laptop:66666\n",
            "Enter the price of laptop:7777777\n",
            "Enter the price of laptop:888888\n"
          ]
        }
      ]
    },
    {
      "cell_type": "code",
      "source": [
        "print(laptop_price)"
      ],
      "metadata": {
        "colab": {
          "base_uri": "https://localhost:8080/"
        },
        "id": "vXJr2enHvJTZ",
        "outputId": "fc48bee2-c1cc-4767-a059-1ee59f85a1ee"
      },
      "execution_count": 12,
      "outputs": [
        {
          "output_type": "stream",
          "name": "stdout",
          "text": [
            "[100000, 5555555, 66666, 7777777, 888888]\n"
          ]
        }
      ]
    },
    {
      "cell_type": "code",
      "source": [
        "for i in range(5):\n",
        "  laptop_price[i]=int(input(\"Enter the price of laptop:\"))\n",
        "\n",
        "print(\"Most Expensive Laptop price is =\",max(laptop_price))\n",
        "\n"
      ],
      "metadata": {
        "colab": {
          "base_uri": "https://localhost:8080/"
        },
        "id": "txGjsvqMvScp",
        "outputId": "35badf3e-1369-4985-a76a-18fdfdbaa52f"
      },
      "execution_count": 16,
      "outputs": [
        {
          "output_type": "stream",
          "name": "stdout",
          "text": [
            "Enter the price of laptop:50000\n",
            "Enter the price of laptop:64000\n",
            "Enter the price of laptop:60000\n",
            "Enter the price of laptop:66000\n",
            "Enter the price of laptop:90000\n",
            "Most Expensive Laptop price is = 90000\n",
            "Most Expensive Laptop price is = 90000\n",
            "Most Expensive Laptop price is = 90000\n",
            "Most Expensive Laptop price is = 90000\n",
            "Most Expensive Laptop price is = 90000\n"
          ]
        }
      ]
    },
    {
      "cell_type": "markdown",
      "source": [
        "#practise some problem\n"
      ],
      "metadata": {
        "id": "PP2fvJ4E5fSl"
      }
    },
    {
      "cell_type": "code",
      "source": [
        "# summation pattern print\n",
        "\n",
        "n=int(input(\"Enter your range :\"))\n",
        "\n",
        "for i in range(1,n+1):\n",
        "  sum=0\n",
        "  for j in range(1,i+1):\n",
        "    print(j,sep=\" \",end=\" \")\n",
        "    sum=sum+j\n",
        "    if(i>j):\n",
        "      print(\"+\",sep=\" \",end=\" \")\n",
        "  print(\"=\",sum)\n",
        "\n"
      ],
      "metadata": {
        "colab": {
          "base_uri": "https://localhost:8080/"
        },
        "id": "nmjmNjZEwpDn",
        "outputId": "9c8177db-6735-4bbf-ceaa-ee7200286c14"
      },
      "execution_count": 7,
      "outputs": [
        {
          "output_type": "stream",
          "name": "stdout",
          "text": [
            "Enter your range :5\n",
            "1 = 1\n",
            "1 + 2 = 3\n",
            "1 + 2 + 3 = 6\n",
            "1 + 2 + 3 + 4 = 10\n",
            "1 + 2 + 3 + 4 + 5 = 15\n"
          ]
        }
      ]
    },
    {
      "cell_type": "code",
      "source": [
        "#Check the prime number\n",
        "\n",
        "n=int(input(\"Enter your number:\"))\n",
        "if(n>1):\n",
        "  for i in range(2,n+1):\n",
        "    if(n%i==0):\n",
        "      break\n",
        "\n",
        "  if(i==n):\n",
        "    print(n,\" is a prime number\")\n",
        "  else:\n",
        "    print(n,\" is not a prime number\")\n",
        "\n",
        "\n"
      ],
      "metadata": {
        "colab": {
          "base_uri": "https://localhost:8080/"
        },
        "id": "fbxuyVo86Qi1",
        "outputId": "8550782f-19cb-4ee9-e8af-abbfcba1ef14"
      },
      "execution_count": 14,
      "outputs": [
        {
          "output_type": "stream",
          "name": "stdout",
          "text": [
            "Enter your number:8\n",
            "8  is not a prime number\n"
          ]
        }
      ]
    },
    {
      "cell_type": "code",
      "source": [
        "#union of two array in python\n",
        "a=(1,2,3,4,5)\n",
        "b=(5,5,6,7,8,9,10)\n",
        "\n",
        "c=a+b\n",
        "d=set(c)\n",
        "print(c)\n",
        "print(d)\n",
        "\n",
        "\n",
        "\n"
      ],
      "metadata": {
        "colab": {
          "base_uri": "https://localhost:8080/"
        },
        "id": "ft8EV3fHZqWZ",
        "outputId": "c51ee1e7-be91-4f85-cf89-6f048dfe7fc3"
      },
      "execution_count": 22,
      "outputs": [
        {
          "output_type": "stream",
          "name": "stdout",
          "text": [
            "(1, 2, 3, 4, 5, 5, 5, 6, 7, 8, 9, 10)\n",
            "{1, 2, 3, 4, 5, 6, 7, 8, 9, 10}\n"
          ]
        }
      ]
    },
    {
      "cell_type": "code",
      "source": [
        "#intersect of two arrays\n",
        "a=[1,2,3,4]\n",
        "b=[2,3,4,5]\n",
        "\n",
        "c=set(a).intersection(set(b))\n",
        "d=list(c)\n",
        "print(d)\n",
        "\n"
      ],
      "metadata": {
        "colab": {
          "base_uri": "https://localhost:8080/"
        },
        "id": "GG4ZfoewfZVX",
        "outputId": "1d827324-2813-4dc8-f6d5-8344ffc2f4e4"
      },
      "execution_count": 25,
      "outputs": [
        {
          "output_type": "stream",
          "name": "stdout",
          "text": [
            "[2, 3, 4]\n"
          ]
        }
      ]
    },
    {
      "cell_type": "code",
      "source": [
        "#swap two number in onle list\n",
        "a=[1,2,3,4]\n",
        "temp=a[0]\n",
        "a[0]=a[3]\n",
        "a[3]=temp\n",
        "print(a)\n",
        "\n",
        "\n"
      ],
      "metadata": {
        "colab": {
          "base_uri": "https://localhost:8080/"
        },
        "id": "aYSBwovgepNm",
        "outputId": "0e994694-f1a8-4f43-e985-735d016fa133"
      },
      "execution_count": 32,
      "outputs": [
        {
          "output_type": "stream",
          "name": "stdout",
          "text": [
            "[4, 2, 3, 1]\n"
          ]
        }
      ]
    },
    {
      "cell_type": "code",
      "source": [
        "#Find the factorial value of any numnber\n",
        "n=int(input(\"Enter your number:\"))\n",
        "fact=1\n",
        "if(n==0):\n",
        "  print(\"Factorial of 0 is 1\")\n",
        "else:\n",
        "  for i in range(1,n+1):\n",
        "    fact=fact*i\n",
        "  print(\"Factorial of\",n,\"is\",fact)"
      ],
      "metadata": {
        "colab": {
          "base_uri": "https://localhost:8080/"
        },
        "id": "KlepMpXVhqww",
        "outputId": "2ee95542-7697-455f-c026-dba7440b8599"
      },
      "execution_count": 35,
      "outputs": [
        {
          "output_type": "stream",
          "name": "stdout",
          "text": [
            "Enter your number:0\n",
            "Factorial of 0 is 1\n"
          ]
        }
      ]
    },
    {
      "cell_type": "code",
      "source": [
        "#factorial function\n",
        "def factorial_value(n):\n",
        "  fact=1\n",
        "  if(n==0):\n",
        "    return fact\n",
        "  else:\n",
        "    for i in range(1,n+1):\n",
        "      fact=fact*i\n",
        "    return fact\n",
        "\n",
        "n=int(input(\"Enter your number:\"))\n",
        "print(\"Factorial of\",n,\"is\",factorial_value(n))"
      ],
      "metadata": {
        "colab": {
          "base_uri": "https://localhost:8080/"
        },
        "id": "-cMmbXX4lFaP",
        "outputId": "4ee495f3-55ea-4f65-d975-57f8b7716725"
      },
      "execution_count": 36,
      "outputs": [
        {
          "output_type": "stream",
          "name": "stdout",
          "text": [
            "Enter your number:5\n",
            "Factorial of 5 is 120\n"
          ]
        }
      ]
    },
    {
      "cell_type": "code",
      "source": [],
      "metadata": {
        "id": "MPnoC9Bglslf"
      },
      "execution_count": null,
      "outputs": []
    }
  ]
}